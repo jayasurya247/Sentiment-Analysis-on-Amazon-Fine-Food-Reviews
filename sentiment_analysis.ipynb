{
 "cells": [
  {
   "cell_type": "markdown",
   "id": "d55d84d1",
   "metadata": {},
   "source": [
    "# Import Libraries and Setup"
   ]
  },
  {
   "cell_type": "code",
   "execution_count": null,
   "id": "cd8cbf42",
   "metadata": {
    "colab": {
     "base_uri": "https://localhost:8080/"
    },
    "id": "cd8cbf42",
    "outputId": "a4be3eab-0920-431f-d4aa-0f29c80cf9ec"
   },
   "outputs": [
    {
     "name": "stderr",
     "output_type": "stream",
     "text": [
      "[nltk_data] Downloading package stopwords to /root/nltk_data...\n",
      "[nltk_data]   Package stopwords is already up-to-date!\n",
      "[nltk_data] Downloading package wordnet to /root/nltk_data...\n",
      "[nltk_data]   Package wordnet is already up-to-date!\n",
      "[nltk_data] Downloading package vader_lexicon to /root/nltk_data...\n",
      "[nltk_data]   Package vader_lexicon is already up-to-date!\n"
     ]
    }
   ],
   "source": [
    "import pandas as pd\n",
    "import numpy as np\n",
    "import seaborn as sns\n",
    "import matplotlib.pyplot as plt\n",
    "from nltk.corpus import stopwords\n",
    "from nltk.stem import WordNetLemmatizer\n",
    "from sklearn.feature_extraction.text import TfidfVectorizer\n",
    "from sklearn.linear_model import LogisticRegression\n",
    "from sklearn.tree import DecisionTreeClassifier\n",
    "from sklearn.metrics import accuracy_score, classification_report\n",
    "from sklearn.model_selection import train_test_split\n",
    "from sklearn.ensemble import RandomForestClassifier\n",
    "from sklearn.neural_network import MLPClassifier\n",
    "from sklearn.svm import SVC\n",
    "from sklearn.feature_extraction.text import TfidfVectorizer\n",
    "from sklearn.ensemble import RandomForestClassifier\n",
    "from sklearn.neural_network import MLPClassifier\n",
    "from sklearn.metrics import accuracy_score, classification_report\n",
    "from sklearn.model_selection import GridSearchCV\n",
    "from sklearn import naive_bayes\n",
    "import nltk\n",
    "from nltk.corpus import stopwords\n",
    "from nltk.stem import WordNetLemmatizer\n",
    "nltk.download('stopwords')\n",
    "nltk.download('wordnet')\n",
    "from nltk.sentiment.vader import SentimentIntensityAnalyzer\n",
    "nltk.download('vader_lexicon')\n",
    "import warnings\n",
    "\n",
    "# ignore all warnings\n",
    "warnings.filterwarnings('ignore')\n",
    "\n",
    "# code that generates warnings here"
   ]
  },
  {
   "cell_type": "code",
   "execution_count": null,
   "id": "55e82255",
   "metadata": {
    "id": "55e82255"
   },
   "outputs": [],
   "source": [
    "# Load data\n",
    "data = pd.read_csv('Reviews.csv')"
   ]
  },
  {
   "cell_type": "markdown",
   "id": "7f2c0945",
   "metadata": {
    "id": "7f2c0945"
   },
   "source": [
    "# Data Preprocessing"
   ]
  },
  {
   "cell_type": "code",
   "execution_count": null,
   "id": "HHadSd59t5oR",
   "metadata": {
    "colab": {
     "base_uri": "https://localhost:8080/"
    },
    "id": "HHadSd59t5oR",
    "outputId": "56f7fb78-8aba-4039-c160-b8ca15fc680e"
   },
   "outputs": [
    {
     "data": {
      "text/plain": [
       "Id                         int64\n",
       "ProductId                 object\n",
       "UserId                    object\n",
       "ProfileName               object\n",
       "HelpfulnessNumerator       int64\n",
       "HelpfulnessDenominator     int64\n",
       "Score                      int64\n",
       "Time                       int64\n",
       "Summary                   object\n",
       "Text                      object\n",
       "dtype: object"
      ]
     },
     "execution_count": 82,
     "metadata": {},
     "output_type": "execute_result"
    }
   ],
   "source": [
    "#Check the attributes and their data types\n",
    "data.dtypes"
   ]
  },
  {
   "cell_type": "code",
   "execution_count": null,
   "id": "cpk9yEdIpgyc",
   "metadata": {
    "colab": {
     "base_uri": "https://localhost:8080/"
    },
    "id": "cpk9yEdIpgyc",
    "outputId": "04a84729-8f4e-4e62-fa6e-7e03cb7816e6"
   },
   "outputs": [
    {
     "data": {
      "text/plain": [
       "(568454, 10)"
      ]
     },
     "execution_count": 83,
     "metadata": {},
     "output_type": "execute_result"
    }
   ],
   "source": [
    "#Display dataframe dimensions\n",
    "data.shape"
   ]
  },
  {
   "cell_type": "code",
   "execution_count": null,
   "id": "mP2EN9yWAdXI",
   "metadata": {
    "colab": {
     "base_uri": "https://localhost:8080/",
     "height": 206
    },
    "id": "mP2EN9yWAdXI",
    "outputId": "302ce3ca-7a4f-4f92-a97a-0e1798831aa7"
   },
   "outputs": [
    {
     "data": {
      "text/html": [
       "\n",
       "  <div id=\"df-ebbec182-96c9-469c-991a-aa915ca85008\">\n",
       "    <div class=\"colab-df-container\">\n",
       "      <div>\n",
       "<style scoped>\n",
       "    .dataframe tbody tr th:only-of-type {\n",
       "        vertical-align: middle;\n",
       "    }\n",
       "\n",
       "    .dataframe tbody tr th {\n",
       "        vertical-align: top;\n",
       "    }\n",
       "\n",
       "    .dataframe thead th {\n",
       "        text-align: right;\n",
       "    }\n",
       "</style>\n",
       "<table border=\"1\" class=\"dataframe\">\n",
       "  <thead>\n",
       "    <tr style=\"text-align: right;\">\n",
       "      <th></th>\n",
       "      <th>Text</th>\n",
       "      <th>Score</th>\n",
       "    </tr>\n",
       "  </thead>\n",
       "  <tbody>\n",
       "    <tr>\n",
       "      <th>0</th>\n",
       "      <td>I have bought several of the Vitality canned d...</td>\n",
       "      <td>5</td>\n",
       "    </tr>\n",
       "    <tr>\n",
       "      <th>1</th>\n",
       "      <td>Product arrived labeled as Jumbo Salted Peanut...</td>\n",
       "      <td>1</td>\n",
       "    </tr>\n",
       "    <tr>\n",
       "      <th>2</th>\n",
       "      <td>This is a confection that has been around a fe...</td>\n",
       "      <td>4</td>\n",
       "    </tr>\n",
       "    <tr>\n",
       "      <th>3</th>\n",
       "      <td>If you are looking for the secret ingredient i...</td>\n",
       "      <td>2</td>\n",
       "    </tr>\n",
       "    <tr>\n",
       "      <th>4</th>\n",
       "      <td>Great taffy at a great price.  There was a wid...</td>\n",
       "      <td>5</td>\n",
       "    </tr>\n",
       "  </tbody>\n",
       "</table>\n",
       "</div>\n",
       "      <button class=\"colab-df-convert\" onclick=\"convertToInteractive('df-ebbec182-96c9-469c-991a-aa915ca85008')\"\n",
       "              title=\"Convert this dataframe to an interactive table.\"\n",
       "              style=\"display:none;\">\n",
       "        \n",
       "  <svg xmlns=\"http://www.w3.org/2000/svg\" height=\"24px\"viewBox=\"0 0 24 24\"\n",
       "       width=\"24px\">\n",
       "    <path d=\"M0 0h24v24H0V0z\" fill=\"none\"/>\n",
       "    <path d=\"M18.56 5.44l.94 2.06.94-2.06 2.06-.94-2.06-.94-.94-2.06-.94 2.06-2.06.94zm-11 1L8.5 8.5l.94-2.06 2.06-.94-2.06-.94L8.5 2.5l-.94 2.06-2.06.94zm10 10l.94 2.06.94-2.06 2.06-.94-2.06-.94-.94-2.06-.94 2.06-2.06.94z\"/><path d=\"M17.41 7.96l-1.37-1.37c-.4-.4-.92-.59-1.43-.59-.52 0-1.04.2-1.43.59L10.3 9.45l-7.72 7.72c-.78.78-.78 2.05 0 2.83L4 21.41c.39.39.9.59 1.41.59.51 0 1.02-.2 1.41-.59l7.78-7.78 2.81-2.81c.8-.78.8-2.07 0-2.86zM5.41 20L4 18.59l7.72-7.72 1.47 1.35L5.41 20z\"/>\n",
       "  </svg>\n",
       "      </button>\n",
       "      \n",
       "  <style>\n",
       "    .colab-df-container {\n",
       "      display:flex;\n",
       "      flex-wrap:wrap;\n",
       "      gap: 12px;\n",
       "    }\n",
       "\n",
       "    .colab-df-convert {\n",
       "      background-color: #E8F0FE;\n",
       "      border: none;\n",
       "      border-radius: 50%;\n",
       "      cursor: pointer;\n",
       "      display: none;\n",
       "      fill: #1967D2;\n",
       "      height: 32px;\n",
       "      padding: 0 0 0 0;\n",
       "      width: 32px;\n",
       "    }\n",
       "\n",
       "    .colab-df-convert:hover {\n",
       "      background-color: #E2EBFA;\n",
       "      box-shadow: 0px 1px 2px rgba(60, 64, 67, 0.3), 0px 1px 3px 1px rgba(60, 64, 67, 0.15);\n",
       "      fill: #174EA6;\n",
       "    }\n",
       "\n",
       "    [theme=dark] .colab-df-convert {\n",
       "      background-color: #3B4455;\n",
       "      fill: #D2E3FC;\n",
       "    }\n",
       "\n",
       "    [theme=dark] .colab-df-convert:hover {\n",
       "      background-color: #434B5C;\n",
       "      box-shadow: 0px 1px 3px 1px rgba(0, 0, 0, 0.15);\n",
       "      filter: drop-shadow(0px 1px 2px rgba(0, 0, 0, 0.3));\n",
       "      fill: #FFFFFF;\n",
       "    }\n",
       "  </style>\n",
       "\n",
       "      <script>\n",
       "        const buttonEl =\n",
       "          document.querySelector('#df-ebbec182-96c9-469c-991a-aa915ca85008 button.colab-df-convert');\n",
       "        buttonEl.style.display =\n",
       "          google.colab.kernel.accessAllowed ? 'block' : 'none';\n",
       "\n",
       "        async function convertToInteractive(key) {\n",
       "          const element = document.querySelector('#df-ebbec182-96c9-469c-991a-aa915ca85008');\n",
       "          const dataTable =\n",
       "            await google.colab.kernel.invokeFunction('convertToInteractive',\n",
       "                                                     [key], {});\n",
       "          if (!dataTable) return;\n",
       "\n",
       "          const docLinkHtml = 'Like what you see? Visit the ' +\n",
       "            '<a target=\"_blank\" href=https://colab.research.google.com/notebooks/data_table.ipynb>data table notebook</a>'\n",
       "            + ' to learn more about interactive tables.';\n",
       "          element.innerHTML = '';\n",
       "          dataTable['output_type'] = 'display_data';\n",
       "          await google.colab.output.renderOutput(dataTable, element);\n",
       "          const docLink = document.createElement('div');\n",
       "          docLink.innerHTML = docLinkHtml;\n",
       "          element.appendChild(docLink);\n",
       "        }\n",
       "      </script>\n",
       "    </div>\n",
       "  </div>\n",
       "  "
      ],
      "text/plain": [
       "                                                Text  Score\n",
       "0  I have bought several of the Vitality canned d...      5\n",
       "1  Product arrived labeled as Jumbo Salted Peanut...      1\n",
       "2  This is a confection that has been around a fe...      4\n",
       "3  If you are looking for the secret ingredient i...      2\n",
       "4  Great taffy at a great price.  There was a wid...      5"
      ]
     },
     "execution_count": 84,
     "metadata": {},
     "output_type": "execute_result"
    }
   ],
   "source": [
    "#Display only useful columns\n",
    "data[['Text', 'Score']].head()"
   ]
  },
  {
   "cell_type": "code",
   "execution_count": null,
   "id": "538b7af0",
   "metadata": {
    "id": "538b7af0"
   },
   "outputs": [],
   "source": [
    "# Select only the 'Text' and 'Score' columns from the original DataFrame\n",
    "new_data = data[['Text', 'Score']]\n",
    "\n",
    "\n",
    "# Drop any rows that have duplicate values in the 'Text' column, keeping only the first occurrence\n",
    "new_data = new_data.drop_duplicates(subset=['Text'], keep='first').reset_index(drop=True)"
   ]
  },
  {
   "cell_type": "code",
   "execution_count": null,
   "id": "8dd2559e",
   "metadata": {
    "id": "8dd2559e"
   },
   "outputs": [],
   "source": [
    "import re\n",
    "\n",
    "#Create a function to perfrom data pre-processing\n",
    "def clean_text(text):\n",
    "    # Convert text to lowercase\n",
    "    text = text.lower()\n",
    "    \n",
    "    # Remove numbers\n",
    "    text = re.sub(r'\\d+', '', text)\n",
    "    \n",
    "    # Remove special characters\n",
    "    text = re.sub(r'[^\\w\\s]', '', text)\n",
    "    \n",
    "    # Remove stopwords\n",
    "    stop_words = set(stopwords.words('english'))\n",
    "    words = text.split()\n",
    "    words = [word for word in words if word not in stop_words]\n",
    "    \n",
    "    # Lemmatize words\n",
    "    lemmatizer = WordNetLemmatizer()\n",
    "    words = [lemmatizer.lemmatize(word) for word in words]\n",
    "    \n",
    "    # Join the cleaned words\n",
    "    text = ' '.join(words)\n",
    "    \n",
    "    return text\n"
   ]
  },
  {
   "cell_type": "code",
   "execution_count": null,
   "id": "dc57d1ac",
   "metadata": {
    "id": "dc57d1ac"
   },
   "outputs": [],
   "source": [
    "#Apply clean text function on text column\n",
    "new_data['text_clean'] = new_data['Text'].apply(clean_text)"
   ]
  },
  {
   "cell_type": "code",
   "execution_count": null,
   "id": "770bb3e0",
   "metadata": {
    "id": "770bb3e0"
   },
   "outputs": [],
   "source": [
    "#Drop the original 'Text' column\n",
    "new_data = new_data.drop(['Text'], axis=1)"
   ]
  },
  {
   "cell_type": "code",
   "execution_count": null,
   "id": "c99f6068",
   "metadata": {
    "id": "c99f6068"
   },
   "outputs": [],
   "source": [
    "#Reorder the columns\n",
    "new_data = new_data[['text_clean', 'Score']]"
   ]
  },
  {
   "cell_type": "code",
   "execution_count": null,
   "id": "c9aa604e",
   "metadata": {
    "id": "c9aa604e"
   },
   "outputs": [],
   "source": [
    "#Create a new 'Sentiment' column based on the 'Score' column\n",
    "new_data['Sentiment'] = new_data['Score'].apply(lambda x: 'positive' if x > 3 else 'negative')"
   ]
  },
  {
   "cell_type": "code",
   "execution_count": null,
   "id": "c512b78c",
   "metadata": {
    "id": "c512b78c"
   },
   "outputs": [],
   "source": [
    "#Drop the original 'Score' column\n",
    "new_data = new_data.drop(['Score'], axis=1)"
   ]
  },
  {
   "cell_type": "code",
   "execution_count": null,
   "id": "6f030194",
   "metadata": {
    "colab": {
     "base_uri": "https://localhost:8080/",
     "height": 472
    },
    "id": "6f030194",
    "outputId": "7daedbfa-e231-46de-fb3a-482b36e8624c"
   },
   "outputs": [
    {
     "data": {
      "image/png": "[encoded data removed]",
      "text/plain": [
       "<Figure size 640x480 with 1 Axes>"
      ]
     },
     "metadata": {},
     "output_type": "display_data"
    }
   ],
   "source": [
    "#Visualize the distribution of the 'Sentiment' column using a countplot\n",
    "ax = sns.countplot(data=new_data, x='Sentiment')\n",
    "for i, p in enumerate(ax.patches):\n",
    "    ax.text(p.get_x() + p.get_width()/2., p.get_height(), f'{p.get_height():.0f}', \n",
    "            ha='center', va='bottom', fontsize=12)\n",
    "plt.title('Sentiment(Target Variable) distribution')\n",
    "plt.show()"
   ]
  },
  {
   "cell_type": "markdown",
   "id": "b08fe47d",
   "metadata": {
    "id": "b08fe47d"
   },
   "source": [
    "The count plot indicates that the distribution of our target class is imbalanced."
   ]
  },
  {
   "cell_type": "markdown",
   "id": "qzp7ExLl4JPR",
   "metadata": {
    "id": "qzp7ExLl4JPR"
   },
   "source": [
    "####Pretrained model"
   ]
  },
  {
   "cell_type": "code",
   "execution_count": null,
   "id": "ak-P-qep4Ipm",
   "metadata": {
    "id": "ak-P-qep4Ipm"
   },
   "outputs": [],
   "source": [
    "#Initialize the SentimentIntensityAnalyzer\n",
    "sid = SentimentIntensityAnalyzer()\n",
    "\n",
    "\n",
    "#Define a function to get the sentiment score for each text\n",
    "def get_sentiment_score(text):\n",
    "    return sid.polarity_scores(text)['compound']"
   ]
  },
  {
   "cell_type": "code",
   "execution_count": null,
   "id": "6xImIRb54Pul",
   "metadata": {
    "id": "6xImIRb54Pul"
   },
   "outputs": [],
   "source": [
    "#Apply the 'get_sentiment_score' function to the 'text_clean' column and create a new 'Sentiment_score' column\n",
    "new_data['Sentiment_score'] = new_data['text_clean'].apply(get_sentiment_score)"
   ]
  },
  {
   "cell_type": "code",
   "execution_count": null,
   "id": "1y_MYCf94QSt",
   "metadata": {
    "colab": {
     "base_uri": "https://localhost:8080/",
     "height": 206
    },
    "id": "1y_MYCf94QSt",
    "outputId": "8b15603f-61da-4fdb-cd8e-048360aeecfd"
   },
   "outputs": [
    {
     "data": {
      "text/html": [
       "\n",
       "  <div id=\"df-2306b5cf-7824-4adf-b7e0-3d263784582e\">\n",
       "    <div class=\"colab-df-container\">\n",
       "      <div>\n",
       "<style scoped>\n",
       "    .dataframe tbody tr th:only-of-type {\n",
       "        vertical-align: middle;\n",
       "    }\n",
       "\n",
       "    .dataframe tbody tr th {\n",
       "        vertical-align: top;\n",
       "    }\n",
       "\n",
       "    .dataframe thead th {\n",
       "        text-align: right;\n",
       "    }\n",
       "</style>\n",
       "<table border=\"1\" class=\"dataframe\">\n",
       "  <thead>\n",
       "    <tr style=\"text-align: right;\">\n",
       "      <th></th>\n",
       "      <th>text_clean</th>\n",
       "      <th>Sentiment</th>\n",
       "      <th>Sentiment_score</th>\n",
       "    </tr>\n",
       "  </thead>\n",
       "  <tbody>\n",
       "    <tr>\n",
       "      <th>0</th>\n",
       "      <td>bought several vitality canned dog food produc...</td>\n",
       "      <td>positive</td>\n",
       "      <td>0.9413</td>\n",
       "    </tr>\n",
       "    <tr>\n",
       "      <th>1</th>\n",
       "      <td>product arrived labeled jumbo salted peanutsth...</td>\n",
       "      <td>negative</td>\n",
       "      <td>-0.1027</td>\n",
       "    </tr>\n",
       "    <tr>\n",
       "      <th>2</th>\n",
       "      <td>confection around century light pillowy citrus...</td>\n",
       "      <td>positive</td>\n",
       "      <td>0.8624</td>\n",
       "    </tr>\n",
       "    <tr>\n",
       "      <th>3</th>\n",
       "      <td>looking secret ingredient robitussin believe f...</td>\n",
       "      <td>negative</td>\n",
       "      <td>0.4404</td>\n",
       "    </tr>\n",
       "    <tr>\n",
       "      <th>4</th>\n",
       "      <td>great taffy great price wide assortment yummy ...</td>\n",
       "      <td>positive</td>\n",
       "      <td>0.9468</td>\n",
       "    </tr>\n",
       "  </tbody>\n",
       "</table>\n",
       "</div>\n",
       "      <button class=\"colab-df-convert\" onclick=\"convertToInteractive('df-2306b5cf-7824-4adf-b7e0-3d263784582e')\"\n",
       "              title=\"Convert this dataframe to an interactive table.\"\n",
       "              style=\"display:none;\">\n",
       "        \n",
       "  <svg xmlns=\"http://www.w3.org/2000/svg\" height=\"24px\"viewBox=\"0 0 24 24\"\n",
       "       width=\"24px\">\n",
       "    <path d=\"M0 0h24v24H0V0z\" fill=\"none\"/>\n",
       "    <path d=\"M18.56 5.44l.94 2.06.94-2.06 2.06-.94-2.06-.94-.94-2.06-.94 2.06-2.06.94zm-11 1L8.5 8.5l.94-2.06 2.06-.94-2.06-.94L8.5 2.5l-.94 2.06-2.06.94zm10 10l.94 2.06.94-2.06 2.06-.94-2.06-.94-.94-2.06-.94 2.06-2.06.94z\"/><path d=\"M17.41 7.96l-1.37-1.37c-.4-.4-.92-.59-1.43-.59-.52 0-1.04.2-1.43.59L10.3 9.45l-7.72 7.72c-.78.78-.78 2.05 0 2.83L4 21.41c.39.39.9.59 1.41.59.51 0 1.02-.2 1.41-.59l7.78-7.78 2.81-2.81c.8-.78.8-2.07 0-2.86zM5.41 20L4 18.59l7.72-7.72 1.47 1.35L5.41 20z\"/>\n",
       "  </svg>\n",
       "      </button>\n",
       "      \n",
       "  <style>\n",
       "    .colab-df-container {\n",
       "      display:flex;\n",
       "      flex-wrap:wrap;\n",
       "      gap: 12px;\n",
       "    }\n",
       "\n",
       "    .colab-df-convert {\n",
       "      background-color: #E8F0FE;\n",
       "      border: none;\n",
       "      border-radius: 50%;\n",
       "      cursor: pointer;\n",
       "      display: none;\n",
       "      fill: #1967D2;\n",
       "      height: 32px;\n",
       "      padding: 0 0 0 0;\n",
       "      width: 32px;\n",
       "    }\n",
       "\n",
       "    .colab-df-convert:hover {\n",
       "      background-color: #E2EBFA;\n",
       "      box-shadow: 0px 1px 2px rgba(60, 64, 67, 0.3), 0px 1px 3px 1px rgba(60, 64, 67, 0.15);\n",
       "      fill: #174EA6;\n",
       "    }\n",
       "\n",
       "    [theme=dark] .colab-df-convert {\n",
       "      background-color: #3B4455;\n",
       "      fill: #D2E3FC;\n",
       "    }\n",
       "\n",
       "    [theme=dark] .colab-df-convert:hover {\n",
       "      background-color: #434B5C;\n",
       "      box-shadow: 0px 1px 3px 1px rgba(0, 0, 0, 0.15);\n",
       "      filter: drop-shadow(0px 1px 2px rgba(0, 0, 0, 0.3));\n",
       "      fill: #FFFFFF;\n",
       "    }\n",
       "  </style>\n",
       "\n",
       "      <script>\n",
       "        const buttonEl =\n",
       "          document.querySelector('#df-2306b5cf-7824-4adf-b7e0-3d263784582e button.colab-df-convert');\n",
       "        buttonEl.style.display =\n",
       "          google.colab.kernel.accessAllowed ? 'block' : 'none';\n",
       "\n",
       "        async function convertToInteractive(key) {\n",
       "          const element = document.querySelector('#df-2306b5cf-7824-4adf-b7e0-3d263784582e');\n",
       "          const dataTable =\n",
       "            await google.colab.kernel.invokeFunction('convertToInteractive',\n",
       "                                                     [key], {});\n",
       "          if (!dataTable) return;\n",
       "\n",
       "          const docLinkHtml = 'Like what you see? Visit the ' +\n",
       "            '<a target=\"_blank\" href=https://colab.research.google.com/notebooks/data_table.ipynb>data table notebook</a>'\n",
       "            + ' to learn more about interactive tables.';\n",
       "          element.innerHTML = '';\n",
       "          dataTable['output_type'] = 'display_data';\n",
       "          await google.colab.output.renderOutput(dataTable, element);\n",
       "          const docLink = document.createElement('div');\n",
       "          docLink.innerHTML = docLinkHtml;\n",
       "          element.appendChild(docLink);\n",
       "        }\n",
       "      </script>\n",
       "    </div>\n",
       "  </div>\n",
       "  "
      ],
      "text/plain": [
       "                                          text_clean Sentiment  \\\n",
       "0  bought several vitality canned dog food produc...  positive   \n",
       "1  product arrived labeled jumbo salted peanutsth...  negative   \n",
       "2  confection around century light pillowy citrus...  positive   \n",
       "3  looking secret ingredient robitussin believe f...  negative   \n",
       "4  great taffy great price wide assortment yummy ...  positive   \n",
       "\n",
       "   Sentiment_score  \n",
       "0           0.9413  \n",
       "1          -0.1027  \n",
       "2           0.8624  \n",
       "3           0.4404  \n",
       "4           0.9468  "
      ]
     },
     "execution_count": 95,
     "metadata": {},
     "output_type": "execute_result"
    }
   ],
   "source": [
    "new_data.head()"
   ]
  },
  {
   "cell_type": "code",
   "execution_count": null,
   "id": "IyTG4wn-4hbc",
   "metadata": {
    "id": "IyTG4wn-4hbc"
   },
   "outputs": [],
   "source": [
    "#Define a function to convert the sentiment score into a sentiment category\n",
    "def get_sentiment_category(score):\n",
    "    if score > 0.5:\n",
    "        return 'positive'\n",
    "    else:\n",
    "        return 'negative'\n"
   ]
  },
  {
   "cell_type": "code",
   "execution_count": null,
   "id": "owDvzjFd4vWN",
   "metadata": {
    "id": "owDvzjFd4vWN"
   },
   "outputs": [],
   "source": [
    "#Apply the 'get_sentiment_category' function to the 'Sentiment_score' column and create a new 'Sentiment_category' column\n",
    "new_data['Sentiment_category'] = new_data['Sentiment_score'].apply(get_sentiment_category)"
   ]
  },
  {
   "cell_type": "code",
   "execution_count": null,
   "id": "Hddo_kSF4yMk",
   "metadata": {
    "colab": {
     "base_uri": "https://localhost:8080/",
     "height": 206
    },
    "id": "Hddo_kSF4yMk",
    "outputId": "fd0fb832-ef74-46ce-894e-5a664ca9e42a"
   },
   "outputs": [
    {
     "data": {
      "text/html": [
       "\n",
       "  <div id=\"df-76d25dbe-2b83-4de0-8cb9-41d28842a2f7\">\n",
       "    <div class=\"colab-df-container\">\n",
       "      <div>\n",
       "<style scoped>\n",
       "    .dataframe tbody tr th:only-of-type {\n",
       "        vertical-align: middle;\n",
       "    }\n",
       "\n",
       "    .dataframe tbody tr th {\n",
       "        vertical-align: top;\n",
       "    }\n",
       "\n",
       "    .dataframe thead th {\n",
       "        text-align: right;\n",
       "    }\n",
       "</style>\n",
       "<table border=\"1\" class=\"dataframe\">\n",
       "  <thead>\n",
       "    <tr style=\"text-align: right;\">\n",
       "      <th></th>\n",
       "      <th>text_clean</th>\n",
       "      <th>Sentiment</th>\n",
       "      <th>Sentiment_score</th>\n",
       "      <th>Sentiment_category</th>\n",
       "    </tr>\n",
       "  </thead>\n",
       "  <tbody>\n",
       "    <tr>\n",
       "      <th>0</th>\n",
       "      <td>bought several vitality canned dog food produc...</td>\n",
       "      <td>positive</td>\n",
       "      <td>0.9413</td>\n",
       "      <td>positive</td>\n",
       "    </tr>\n",
       "    <tr>\n",
       "      <th>1</th>\n",
       "      <td>product arrived labeled jumbo salted peanutsth...</td>\n",
       "      <td>negative</td>\n",
       "      <td>-0.1027</td>\n",
       "      <td>negative</td>\n",
       "    </tr>\n",
       "    <tr>\n",
       "      <th>2</th>\n",
       "      <td>confection around century light pillowy citrus...</td>\n",
       "      <td>positive</td>\n",
       "      <td>0.8624</td>\n",
       "      <td>positive</td>\n",
       "    </tr>\n",
       "    <tr>\n",
       "      <th>3</th>\n",
       "      <td>looking secret ingredient robitussin believe f...</td>\n",
       "      <td>negative</td>\n",
       "      <td>0.4404</td>\n",
       "      <td>negative</td>\n",
       "    </tr>\n",
       "    <tr>\n",
       "      <th>4</th>\n",
       "      <td>great taffy great price wide assortment yummy ...</td>\n",
       "      <td>positive</td>\n",
       "      <td>0.9468</td>\n",
       "      <td>positive</td>\n",
       "    </tr>\n",
       "  </tbody>\n",
       "</table>\n",
       "</div>\n",
       "      <button class=\"colab-df-convert\" onclick=\"convertToInteractive('df-76d25dbe-2b83-4de0-8cb9-41d28842a2f7')\"\n",
       "              title=\"Convert this dataframe to an interactive table.\"\n",
       "              style=\"display:none;\">\n",
       "        \n",
       "  <svg xmlns=\"http://www.w3.org/2000/svg\" height=\"24px\"viewBox=\"0 0 24 24\"\n",
       "       width=\"24px\">\n",
       "    <path d=\"M0 0h24v24H0V0z\" fill=\"none\"/>\n",
       "    <path d=\"M18.56 5.44l.94 2.06.94-2.06 2.06-.94-2.06-.94-.94-2.06-.94 2.06-2.06.94zm-11 1L8.5 8.5l.94-2.06 2.06-.94-2.06-.94L8.5 2.5l-.94 2.06-2.06.94zm10 10l.94 2.06.94-2.06 2.06-.94-2.06-.94-.94-2.06-.94 2.06-2.06.94z\"/><path d=\"M17.41 7.96l-1.37-1.37c-.4-.4-.92-.59-1.43-.59-.52 0-1.04.2-1.43.59L10.3 9.45l-7.72 7.72c-.78.78-.78 2.05 0 2.83L4 21.41c.39.39.9.59 1.41.59.51 0 1.02-.2 1.41-.59l7.78-7.78 2.81-2.81c.8-.78.8-2.07 0-2.86zM5.41 20L4 18.59l7.72-7.72 1.47 1.35L5.41 20z\"/>\n",
       "  </svg>\n",
       "      </button>\n",
       "      \n",
       "  <style>\n",
       "    .colab-df-container {\n",
       "      display:flex;\n",
       "      flex-wrap:wrap;\n",
       "      gap: 12px;\n",
       "    }\n",
       "\n",
       "    .colab-df-convert {\n",
       "      background-color: #E8F0FE;\n",
       "      border: none;\n",
       "      border-radius: 50%;\n",
       "      cursor: pointer;\n",
       "      display: none;\n",
       "      fill: #1967D2;\n",
       "      height: 32px;\n",
       "      padding: 0 0 0 0;\n",
       "      width: 32px;\n",
       "    }\n",
       "\n",
       "    .colab-df-convert:hover {\n",
       "      background-color: #E2EBFA;\n",
       "      box-shadow: 0px 1px 2px rgba(60, 64, 67, 0.3), 0px 1px 3px 1px rgba(60, 64, 67, 0.15);\n",
       "      fill: #174EA6;\n",
       "    }\n",
       "\n",
       "    [theme=dark] .colab-df-convert {\n",
       "      background-color: #3B4455;\n",
       "      fill: #D2E3FC;\n",
       "    }\n",
       "\n",
       "    [theme=dark] .colab-df-convert:hover {\n",
       "      background-color: #434B5C;\n",
       "      box-shadow: 0px 1px 3px 1px rgba(0, 0, 0, 0.15);\n",
       "      filter: drop-shadow(0px 1px 2px rgba(0, 0, 0, 0.3));\n",
       "      fill: #FFFFFF;\n",
       "    }\n",
       "  </style>\n",
       "\n",
       "      <script>\n",
       "        const buttonEl =\n",
       "          document.querySelector('#df-76d25dbe-2b83-4de0-8cb9-41d28842a2f7 button.colab-df-convert');\n",
       "        buttonEl.style.display =\n",
       "          google.colab.kernel.accessAllowed ? 'block' : 'none';\n",
       "\n",
       "        async function convertToInteractive(key) {\n",
       "          const element = document.querySelector('#df-76d25dbe-2b83-4de0-8cb9-41d28842a2f7');\n",
       "          const dataTable =\n",
       "            await google.colab.kernel.invokeFunction('convertToInteractive',\n",
       "                                                     [key], {});\n",
       "          if (!dataTable) return;\n",
       "\n",
       "          const docLinkHtml = 'Like what you see? Visit the ' +\n",
       "            '<a target=\"_blank\" href=https://colab.research.google.com/notebooks/data_table.ipynb>data table notebook</a>'\n",
       "            + ' to learn more about interactive tables.';\n",
       "          element.innerHTML = '';\n",
       "          dataTable['output_type'] = 'display_data';\n",
       "          await google.colab.output.renderOutput(dataTable, element);\n",
       "          const docLink = document.createElement('div');\n",
       "          docLink.innerHTML = docLinkHtml;\n",
       "          element.appendChild(docLink);\n",
       "        }\n",
       "      </script>\n",
       "    </div>\n",
       "  </div>\n",
       "  "
      ],
      "text/plain": [
       "                                          text_clean Sentiment  \\\n",
       "0  bought several vitality canned dog food produc...  positive   \n",
       "1  product arrived labeled jumbo salted peanutsth...  negative   \n",
       "2  confection around century light pillowy citrus...  positive   \n",
       "3  looking secret ingredient robitussin believe f...  negative   \n",
       "4  great taffy great price wide assortment yummy ...  positive   \n",
       "\n",
       "   Sentiment_score Sentiment_category  \n",
       "0           0.9413           positive  \n",
       "1          -0.1027           negative  \n",
       "2           0.8624           positive  \n",
       "3           0.4404           negative  \n",
       "4           0.9468           positive  "
      ]
     },
     "execution_count": 98,
     "metadata": {},
     "output_type": "execute_result"
    }
   ],
   "source": [
    "new_data.head()"
   ]
  },
  {
   "cell_type": "code",
   "execution_count": null,
   "id": "1Yadicfx43vs",
   "metadata": {
    "id": "1Yadicfx43vs"
   },
   "outputs": [],
   "source": [
    "# Compare the two columns element-wise\n",
    "differences = new_data['Sentiment'] != new_data['Sentiment_category']\n",
    "\n",
    "# Count the number of differences\n",
    "num_differences = differences.sum()"
   ]
  },
  {
   "cell_type": "code",
   "execution_count": null,
   "id": "JZBXXCik49WF",
   "metadata": {
    "colab": {
     "base_uri": "https://localhost:8080/",
     "height": 424
    },
    "id": "JZBXXCik49WF",
    "outputId": "46bbfa6e-e3b8-4164-b8d8-9260ace27b91"
   },
   "outputs": [
    {
     "data": {
      "text/html": [
       "\n",
       "  <div id=\"df-92ea32e1-72b8-4cb0-8729-2c9f49c4a6d4\">\n",
       "    <div class=\"colab-df-container\">\n",
       "      <div>\n",
       "<style scoped>\n",
       "    .dataframe tbody tr th:only-of-type {\n",
       "        vertical-align: middle;\n",
       "    }\n",
       "\n",
       "    .dataframe tbody tr th {\n",
       "        vertical-align: top;\n",
       "    }\n",
       "\n",
       "    .dataframe thead th {\n",
       "        text-align: right;\n",
       "    }\n",
       "</style>\n",
       "<table border=\"1\" class=\"dataframe\">\n",
       "  <thead>\n",
       "    <tr style=\"text-align: right;\">\n",
       "      <th></th>\n",
       "      <th>Sentiment</th>\n",
       "      <th>Sentiment_category</th>\n",
       "      <th>Sentiment_score</th>\n",
       "      <th>text_clean</th>\n",
       "    </tr>\n",
       "  </thead>\n",
       "  <tbody>\n",
       "    <tr>\n",
       "      <th>11</th>\n",
       "      <td>positive</td>\n",
       "      <td>negative</td>\n",
       "      <td>-0.6486</td>\n",
       "      <td>one boy needed lose weight didnt put food floo...</td>\n",
       "    </tr>\n",
       "    <tr>\n",
       "      <th>16</th>\n",
       "      <td>negative</td>\n",
       "      <td>positive</td>\n",
       "      <td>0.9313</td>\n",
       "      <td>love eating good watching tv looking movie swe...</td>\n",
       "    </tr>\n",
       "    <tr>\n",
       "      <th>23</th>\n",
       "      <td>positive</td>\n",
       "      <td>negative</td>\n",
       "      <td>0.4767</td>\n",
       "      <td>love candy weight watcher cut back still craving</td>\n",
       "    </tr>\n",
       "    <tr>\n",
       "      <th>24</th>\n",
       "      <td>positive</td>\n",
       "      <td>negative</td>\n",
       "      <td>0.3182</td>\n",
       "      <td>lived u yr miss twizzlers go back visit someon...</td>\n",
       "    </tr>\n",
       "    <tr>\n",
       "      <th>25</th>\n",
       "      <td>positive</td>\n",
       "      <td>negative</td>\n",
       "      <td>0.0000</td>\n",
       "      <td>product received advertisedbr br hrefhttpwwwam...</td>\n",
       "    </tr>\n",
       "    <tr>\n",
       "      <th>...</th>\n",
       "      <td>...</td>\n",
       "      <td>...</td>\n",
       "      <td>...</td>\n",
       "      <td>...</td>\n",
       "    </tr>\n",
       "    <tr>\n",
       "      <th>393564</th>\n",
       "      <td>positive</td>\n",
       "      <td>negative</td>\n",
       "      <td>0.4019</td>\n",
       "      <td>need recipe wife interested trying however web...</td>\n",
       "    </tr>\n",
       "    <tr>\n",
       "      <th>393570</th>\n",
       "      <td>positive</td>\n",
       "      <td>negative</td>\n",
       "      <td>0.3182</td>\n",
       "      <td>make mix star anise often difficult find usual...</td>\n",
       "    </tr>\n",
       "    <tr>\n",
       "      <th>393571</th>\n",
       "      <td>negative</td>\n",
       "      <td>positive</td>\n",
       "      <td>0.5423</td>\n",
       "      <td>ordered month back great latest batch terrible...</td>\n",
       "    </tr>\n",
       "    <tr>\n",
       "      <th>393573</th>\n",
       "      <td>positive</td>\n",
       "      <td>negative</td>\n",
       "      <td>-0.0675</td>\n",
       "      <td>complaint there much dont use huge amount spic...</td>\n",
       "    </tr>\n",
       "    <tr>\n",
       "      <th>393578</th>\n",
       "      <td>positive</td>\n",
       "      <td>negative</td>\n",
       "      <td>0.4215</td>\n",
       "      <td>satisfied product advertised use cereal raw vi...</td>\n",
       "    </tr>\n",
       "  </tbody>\n",
       "</table>\n",
       "<p>85403 rows × 4 columns</p>\n",
       "</div>\n",
       "      <button class=\"colab-df-convert\" onclick=\"convertToInteractive('df-92ea32e1-72b8-4cb0-8729-2c9f49c4a6d4')\"\n",
       "              title=\"Convert this dataframe to an interactive table.\"\n",
       "              style=\"display:none;\">\n",
       "        \n",
       "  <svg xmlns=\"http://www.w3.org/2000/svg\" height=\"24px\"viewBox=\"0 0 24 24\"\n",
       "       width=\"24px\">\n",
       "    <path d=\"M0 0h24v24H0V0z\" fill=\"none\"/>\n",
       "    <path d=\"M18.56 5.44l.94 2.06.94-2.06 2.06-.94-2.06-.94-.94-2.06-.94 2.06-2.06.94zm-11 1L8.5 8.5l.94-2.06 2.06-.94-2.06-.94L8.5 2.5l-.94 2.06-2.06.94zm10 10l.94 2.06.94-2.06 2.06-.94-2.06-.94-.94-2.06-.94 2.06-2.06.94z\"/><path d=\"M17.41 7.96l-1.37-1.37c-.4-.4-.92-.59-1.43-.59-.52 0-1.04.2-1.43.59L10.3 9.45l-7.72 7.72c-.78.78-.78 2.05 0 2.83L4 21.41c.39.39.9.59 1.41.59.51 0 1.02-.2 1.41-.59l7.78-7.78 2.81-2.81c.8-.78.8-2.07 0-2.86zM5.41 20L4 18.59l7.72-7.72 1.47 1.35L5.41 20z\"/>\n",
       "  </svg>\n",
       "      </button>\n",
       "      \n",
       "  <style>\n",
       "    .colab-df-container {\n",
       "      display:flex;\n",
       "      flex-wrap:wrap;\n",
       "      gap: 12px;\n",
       "    }\n",
       "\n",
       "    .colab-df-convert {\n",
       "      background-color: #E8F0FE;\n",
       "      border: none;\n",
       "      border-radius: 50%;\n",
       "      cursor: pointer;\n",
       "      display: none;\n",
       "      fill: #1967D2;\n",
       "      height: 32px;\n",
       "      padding: 0 0 0 0;\n",
       "      width: 32px;\n",
       "    }\n",
       "\n",
       "    .colab-df-convert:hover {\n",
       "      background-color: #E2EBFA;\n",
       "      box-shadow: 0px 1px 2px rgba(60, 64, 67, 0.3), 0px 1px 3px 1px rgba(60, 64, 67, 0.15);\n",
       "      fill: #174EA6;\n",
       "    }\n",
       "\n",
       "    [theme=dark] .colab-df-convert {\n",
       "      background-color: #3B4455;\n",
       "      fill: #D2E3FC;\n",
       "    }\n",
       "\n",
       "    [theme=dark] .colab-df-convert:hover {\n",
       "      background-color: #434B5C;\n",
       "      box-shadow: 0px 1px 3px 1px rgba(0, 0, 0, 0.15);\n",
       "      filter: drop-shadow(0px 1px 2px rgba(0, 0, 0, 0.3));\n",
       "      fill: #FFFFFF;\n",
       "    }\n",
       "  </style>\n",
       "\n",
       "      <script>\n",
       "        const buttonEl =\n",
       "          document.querySelector('#df-92ea32e1-72b8-4cb0-8729-2c9f49c4a6d4 button.colab-df-convert');\n",
       "        buttonEl.style.display =\n",
       "          google.colab.kernel.accessAllowed ? 'block' : 'none';\n",
       "\n",
       "        async function convertToInteractive(key) {\n",
       "          const element = document.querySelector('#df-92ea32e1-72b8-4cb0-8729-2c9f49c4a6d4');\n",
       "          const dataTable =\n",
       "            await google.colab.kernel.invokeFunction('convertToInteractive',\n",
       "                                                     [key], {});\n",
       "          if (!dataTable) return;\n",
       "\n",
       "          const docLinkHtml = 'Like what you see? Visit the ' +\n",
       "            '<a target=\"_blank\" href=https://colab.research.google.com/notebooks/data_table.ipynb>data table notebook</a>'\n",
       "            + ' to learn more about interactive tables.';\n",
       "          element.innerHTML = '';\n",
       "          dataTable['output_type'] = 'display_data';\n",
       "          await google.colab.output.renderOutput(dataTable, element);\n",
       "          const docLink = document.createElement('div');\n",
       "          docLink.innerHTML = docLinkHtml;\n",
       "          element.appendChild(docLink);\n",
       "        }\n",
       "      </script>\n",
       "    </div>\n",
       "  </div>\n",
       "  "
      ],
      "text/plain": [
       "       Sentiment Sentiment_category  Sentiment_score  \\\n",
       "11      positive           negative          -0.6486   \n",
       "16      negative           positive           0.9313   \n",
       "23      positive           negative           0.4767   \n",
       "24      positive           negative           0.3182   \n",
       "25      positive           negative           0.0000   \n",
       "...          ...                ...              ...   \n",
       "393564  positive           negative           0.4019   \n",
       "393570  positive           negative           0.3182   \n",
       "393571  negative           positive           0.5423   \n",
       "393573  positive           negative          -0.0675   \n",
       "393578  positive           negative           0.4215   \n",
       "\n",
       "                                               text_clean  \n",
       "11      one boy needed lose weight didnt put food floo...  \n",
       "16      love eating good watching tv looking movie swe...  \n",
       "23       love candy weight watcher cut back still craving  \n",
       "24      lived u yr miss twizzlers go back visit someon...  \n",
       "25      product received advertisedbr br hrefhttpwwwam...  \n",
       "...                                                   ...  \n",
       "393564  need recipe wife interested trying however web...  \n",
       "393570  make mix star anise often difficult find usual...  \n",
       "393571  ordered month back great latest batch terrible...  \n",
       "393573  complaint there much dont use huge amount spic...  \n",
       "393578  satisfied product advertised use cereal raw vi...  \n",
       "\n",
       "[85403 rows x 4 columns]"
      ]
     },
     "execution_count": 100,
     "metadata": {},
     "output_type": "execute_result"
    }
   ],
   "source": [
    "# Select rows where 'Sentiment' does not match 'Sentiment_category', and show the selected columns\n",
    "new_data.loc[new_data['Sentiment'] != new_data['Sentiment_category'],['Sentiment','Sentiment_category','Sentiment_score','text_clean']]"
   ]
  },
  {
   "cell_type": "code",
   "execution_count": null,
   "id": "rZYrXyyX5B6c",
   "metadata": {
    "colab": {
     "base_uri": "https://localhost:8080/"
    },
    "id": "rZYrXyyX5B6c",
    "outputId": "82d7ea1b-1353-426a-bc11-c99978a715a1"
   },
   "outputs": [
    {
     "name": "stdout",
     "output_type": "stream",
     "text": [
      "Accuracy: 0.7830092560832768\n"
     ]
    }
   ],
   "source": [
    "# Calculate accuracy\n",
    "accuracy = accuracy_score(new_data['Sentiment'],new_data['Sentiment_category'])\n",
    "\n",
    "print(\"Accuracy:\", accuracy)"
   ]
  },
  {
   "cell_type": "markdown",
   "id": "9b88d310",
   "metadata": {
    "id": "9b88d310"
   },
   "source": [
    "# Model Preparation"
   ]
  },
  {
   "cell_type": "code",
   "execution_count": null,
   "id": "4ca28fd9",
   "metadata": {
    "id": "4ca28fd9"
   },
   "outputs": [],
   "source": [
    "#Split the data into training and testing sets\n",
    "X = new_data['text_clean']\n",
    "y = new_data['Sentiment']\n",
    "X_train, X_test, y_train, y_test = train_test_split(X, y, test_size=0.3, stratify=y, random_state=42)\n"
   ]
  },
  {
   "cell_type": "code",
   "execution_count": null,
   "id": "b5fa0972",
   "metadata": {
    "colab": {
     "base_uri": "https://localhost:8080/"
    },
    "id": "b5fa0972",
    "outputId": "c0ad1463-b75c-4f42-8ca7-b7b1b7922e3e"
   },
   "outputs": [
    {
     "data": {
      "text/plain": [
       "((275505,), (118074,), (275505,), (118074,))"
      ]
     },
     "execution_count": 103,
     "metadata": {},
     "output_type": "execute_result"
    }
   ],
   "source": [
    "#Check the shapes of the resulting arrays\n",
    "X_train.shape, X_test.shape, y_train.shape, y_test.shape"
   ]
  },
  {
   "cell_type": "code",
   "execution_count": null,
   "id": "993f4e12",
   "metadata": {
    "id": "993f4e12"
   },
   "outputs": [],
   "source": [
    "#Apply the TfidfVectorizer to convert the text into numerical vectors\n",
    "vectorizer = TfidfVectorizer(binary=True)\n",
    "X_train_tr = vectorizer.fit_transform(X_train)\n",
    "X_test_tr = vectorizer.transform(X_test)"
   ]
  },
  {
   "cell_type": "markdown",
   "id": "f63699a7",
   "metadata": {},
   "source": [
    "# Model Training and Evaluation"
   ]
  },
  {
   "cell_type": "markdown",
   "id": "L7FSmYRGnPOK",
   "metadata": {
    "id": "L7FSmYRGnPOK"
   },
   "source": [
    "#### Logistic Regression"
   ]
  },
  {
   "cell_type": "code",
   "execution_count": null,
   "id": "9S6JhvhmnOuh",
   "metadata": {
    "colab": {
     "base_uri": "https://localhost:8080/"
    },
    "id": "9S6JhvhmnOuh",
    "outputId": "617e00ca-bcfb-4269-cb2a-b2d6fb3b96d2"
   },
   "outputs": [
    {
     "name": "stdout",
     "output_type": "stream",
     "text": [
      "Train Accuracy: 0.9013919892560933\n",
      "Test Accuracy: 0.8880701932686281\n",
      "Classification Report:\n",
      "               precision    recall  f1-score   support\n",
      "\n",
      "    negative       0.81      0.65      0.72     26046\n",
      "    positive       0.91      0.96      0.93     92028\n",
      "\n",
      "    accuracy                           0.89    118074\n",
      "   macro avg       0.86      0.80      0.82    118074\n",
      "weighted avg       0.88      0.89      0.88    118074\n",
      "\n"
     ]
    }
   ],
   "source": [
    "lr = LogisticRegression(random_state=42)\n",
    "lr.fit(X_train_tr, y_train)\n",
    "lr_train_acc = lr.score(X_train_tr, y_train)\n",
    "lr_test_acc = lr.score(X_test_tr, y_test)\n",
    "lr_pred = lr.predict(X_test_tr)\n",
    "lr_report = classification_report(y_test, lr_pred,output_dict=True)\n",
    "lrv_report = classification_report(y_test, lr_pred)\n",
    "# Print the results\n",
    "print(f'Train Accuracy:', lr_train_acc)\n",
    "print(f'Test Accuracy:', lr_test_acc)\n",
    "print(f'Classification Report:\\n', lrv_report)"
   ]
  },
  {
   "cell_type": "markdown",
   "id": "2cab743f",
   "metadata": {
    "id": "2cab743f"
   },
   "source": [
    "#### Bernoulli Naive Bayes"
   ]
  },
  {
   "cell_type": "code",
   "execution_count": null,
   "id": "b8fd80c2",
   "metadata": {
    "colab": {
     "base_uri": "https://localhost:8080/"
    },
    "id": "b8fd80c2",
    "outputId": "dbe92b30-ed91-4b4a-aa48-c53c55e59285"
   },
   "outputs": [
    {
     "name": "stdout",
     "output_type": "stream",
     "text": [
      "Train Accuracy: 0.839585488466634\n",
      "Test Accuracy: 0.8246608059352609\n",
      "Classification Report:\n",
      "               precision    recall  f1-score   support\n",
      "\n",
      "    negative       0.63      0.49      0.55     26046\n",
      "    positive       0.86      0.92      0.89     92028\n",
      "\n",
      "    accuracy                           0.82    118074\n",
      "   macro avg       0.75      0.70      0.72    118074\n",
      "weighted avg       0.81      0.82      0.82    118074\n",
      "\n"
     ]
    }
   ],
   "source": [
    "bNB = naive_bayes.BernoulliNB()\n",
    "bNB.fit(X_train_tr, y_train)\n",
    "bNB_train_acc = bNB.score(X_train_tr, y_train)\n",
    "bNB_test_acc = bNB.score(X_test_tr, y_test)\n",
    "bNB_pred = bNB.predict(X_test_tr)\n",
    "bNB_report = classification_report(y_test, bNB_pred,output_dict=True)\n",
    "bNBv_report = classification_report(y_test, bNB_pred)\n",
    "print(f'Train Accuracy:', bNB_train_acc)\n",
    "print(f'Test Accuracy:', bNB_test_acc)\n",
    "print(f'Classification Report:\\n', bNBv_report)"
   ]
  },
  {
   "cell_type": "markdown",
   "id": "80b01168",
   "metadata": {
    "id": "80b01168"
   },
   "source": [
    "#### Multinomial Naive Bayes"
   ]
  },
  {
   "cell_type": "code",
   "execution_count": null,
   "id": "4a92915a",
   "metadata": {
    "colab": {
     "base_uri": "https://localhost:8080/"
    },
    "id": "4a92915a",
    "outputId": "0dfc8890-6c1f-4a17-ca3d-c09422514d79"
   },
   "outputs": [
    {
     "name": "stdout",
     "output_type": "stream",
     "text": [
      "Train Accuracy: 0.8037095515507886\n",
      "Test Accuracy: 0.7935193183935498\n",
      "Classification Report:\n",
      "               precision    recall  f1-score   support\n",
      "\n",
      "    negative       0.95      0.07      0.13     26046\n",
      "    positive       0.79      1.00      0.88     92028\n",
      "\n",
      "    accuracy                           0.79    118074\n",
      "   macro avg       0.87      0.53      0.50    118074\n",
      "weighted avg       0.83      0.79      0.72    118074\n",
      "\n"
     ]
    }
   ],
   "source": [
    "mNB = naive_bayes.MultinomialNB()\n",
    "mNB.fit(X_train_tr, y_train)\n",
    "mNB_train_acc = mNB.score(X_train_tr, y_train)\n",
    "mNB_test_acc = mNB.score(X_test_tr, y_test)\n",
    "mNB_pred = mNB.predict(X_test_tr)\n",
    "mNB_report = classification_report(y_test, mNB_pred,output_dict=True)\n",
    "mNBv_report = classification_report(y_test, mNB_pred)\n",
    "print(f'Train Accuracy:', mNB_train_acc)\n",
    "print(f'Test Accuracy:', mNB_test_acc)\n",
    "print(f'Classification Report:\\n', mNBv_report)"
   ]
  },
  {
   "cell_type": "markdown",
   "id": "69d03390",
   "metadata": {
    "id": "69d03390"
   },
   "source": [
    "#### Decision Tree"
   ]
  },
  {
   "cell_type": "code",
   "execution_count": null,
   "id": "0a918661",
   "metadata": {
    "colab": {
     "base_uri": "https://localhost:8080/"
    },
    "id": "0a918661",
    "outputId": "49f736da-a6d5-4646-dcb9-0d4a16e8821a"
   },
   "outputs": [
    {
     "name": "stdout",
     "output_type": "stream",
     "text": [
      "Train Accuracy: 0.8084426779913251\n",
      "Test Accuracy: 0.8023188847671799\n",
      "Classification Report:\n",
      "               precision    recall  f1-score   support\n",
      "\n",
      "    negative       0.65      0.23      0.34     26046\n",
      "    positive       0.82      0.97      0.88     92028\n",
      "\n",
      "    accuracy                           0.80    118074\n",
      "   macro avg       0.73      0.60      0.61    118074\n",
      "weighted avg       0.78      0.80      0.76    118074\n",
      "\n"
     ]
    }
   ],
   "source": [
    "dt = DecisionTreeClassifier(max_depth=10, min_samples_split=5, min_samples_leaf=2)\n",
    "dt.fit(X_train_tr, y_train)\n",
    "dt_train_acc = dt.score(X_train_tr, y_train)\n",
    "dt_test_acc = dt.score(X_test_tr, y_test)\n",
    "dt_test_pred = dt.predict(X_test_tr)\n",
    "dt_report = classification_report(y_test, dt_test_pred,output_dict=True)\n",
    "dtv_report = classification_report(y_test, dt_test_pred)\n",
    "print(f'Train Accuracy:', dt_train_acc)\n",
    "print(f'Test Accuracy:', dt_test_acc)\n",
    "print(f'Classification Report:\\n', dtv_report)"
   ]
  },
  {
   "cell_type": "markdown",
   "id": "435f0c12",
   "metadata": {
    "id": "435f0c12"
   },
   "source": [
    "#### Random Forest"
   ]
  },
  {
   "cell_type": "code",
   "execution_count": null,
   "id": "f50d53b3",
   "metadata": {
    "colab": {
     "base_uri": "https://localhost:8080/"
    },
    "id": "f50d53b3",
    "outputId": "cd3d3902-e3bc-4e58-a022-7203cb00f0b4"
   },
   "outputs": [
    {
     "name": "stdout",
     "output_type": "stream",
     "text": [
      "Train Accuracy: 0.7794050924665614\n",
      "Test Accuracy: 0.7794095228416078\n",
      "Classification Report:\n",
      "               precision    recall  f1-score   support\n",
      "\n",
      "    negative       0.00      0.00      0.00     26046\n",
      "    positive       0.78      1.00      0.88     92028\n",
      "\n",
      "    accuracy                           0.78    118074\n",
      "   macro avg       0.39      0.50      0.44    118074\n",
      "weighted avg       0.61      0.78      0.68    118074\n",
      "\n"
     ]
    }
   ],
   "source": [
    "#These are the best parameters got using GridsearchCV, so avoiding grid again\n",
    "rf = RandomForestClassifier(max_depth = 20, min_samples_split = 5, n_estimators = 50)\n",
    "rf.fit(X_train_tr, y_train)\n",
    "rf_train_acc = rf.score(X_train_tr, y_train)\n",
    "rf_test_acc = rf.score(X_test_tr, y_test)\n",
    "rf_test_pred = rf.predict(X_test_tr)\n",
    "rf_report = classification_report(y_test, rf_test_pred,output_dict=True)\n",
    "rfv_report = classification_report(y_test, rf_test_pred)\n",
    "print(f'Train Accuracy:', rf_train_acc)\n",
    "print(f'Test Accuracy:', rf_test_acc)\n",
    "print(f'Classification Report:\\n', rfv_report)"
   ]
  },
  {
   "cell_type": "markdown",
   "id": "W7X7cyVDjQkj",
   "metadata": {
    "id": "W7X7cyVDjQkj"
   },
   "source": []
  },
  {
   "cell_type": "code",
   "execution_count": null,
   "id": "Wv4YHJZgjQIk",
   "metadata": {
    "colab": {
     "base_uri": "https://localhost:8080/",
     "height": 206
    },
    "id": "Wv4YHJZgjQIk",
    "outputId": "51eebdbd-c83b-4386-ac0d-b818655d39d6"
   },
   "outputs": [
    {
     "data": {
      "text/html": [
       "\n",
       "  <div id=\"df-12355321-1ac0-4fe3-9648-1c384fce461d\">\n",
       "    <div class=\"colab-df-container\">\n",
       "      <div>\n",
       "<style scoped>\n",
       "    .dataframe tbody tr th:only-of-type {\n",
       "        vertical-align: middle;\n",
       "    }\n",
       "\n",
       "    .dataframe tbody tr th {\n",
       "        vertical-align: top;\n",
       "    }\n",
       "\n",
       "    .dataframe thead th {\n",
       "        text-align: right;\n",
       "    }\n",
       "</style>\n",
       "<table border=\"1\" class=\"dataframe\">\n",
       "  <thead>\n",
       "    <tr style=\"text-align: right;\">\n",
       "      <th></th>\n",
       "      <th>Model</th>\n",
       "      <th>Train Accuracy</th>\n",
       "      <th>Test Accuracy</th>\n",
       "      <th>Precision</th>\n",
       "      <th>recall</th>\n",
       "      <th>f1-score</th>\n",
       "    </tr>\n",
       "  </thead>\n",
       "  <tbody>\n",
       "    <tr>\n",
       "      <th>0</th>\n",
       "      <td>LogisticRegression</td>\n",
       "      <td>0.901392</td>\n",
       "      <td>0.888070</td>\n",
       "      <td>0.856166</td>\n",
       "      <td>0.801914</td>\n",
       "      <td>0.824351</td>\n",
       "    </tr>\n",
       "    <tr>\n",
       "      <th>1</th>\n",
       "      <td>Bernoulli Naive Bayes</td>\n",
       "      <td>0.839585</td>\n",
       "      <td>0.824661</td>\n",
       "      <td>0.748387</td>\n",
       "      <td>0.704447</td>\n",
       "      <td>0.721413</td>\n",
       "    </tr>\n",
       "    <tr>\n",
       "      <th>2</th>\n",
       "      <td>Multinomial Naive Bayes</td>\n",
       "      <td>0.803710</td>\n",
       "      <td>0.793519</td>\n",
       "      <td>0.872346</td>\n",
       "      <td>0.533152</td>\n",
       "      <td>0.504269</td>\n",
       "    </tr>\n",
       "    <tr>\n",
       "      <th>3</th>\n",
       "      <td>Decision Tree</td>\n",
       "      <td>0.808443</td>\n",
       "      <td>0.802319</td>\n",
       "      <td>0.731762</td>\n",
       "      <td>0.596067</td>\n",
       "      <td>0.610055</td>\n",
       "    </tr>\n",
       "    <tr>\n",
       "      <th>4</th>\n",
       "      <td>Random Forest</td>\n",
       "      <td>0.779405</td>\n",
       "      <td>0.779410</td>\n",
       "      <td>0.389705</td>\n",
       "      <td>0.500000</td>\n",
       "      <td>0.438016</td>\n",
       "    </tr>\n",
       "  </tbody>\n",
       "</table>\n",
       "</div>\n",
       "      <button class=\"colab-df-convert\" onclick=\"convertToInteractive('df-12355321-1ac0-4fe3-9648-1c384fce461d')\"\n",
       "              title=\"Convert this dataframe to an interactive table.\"\n",
       "              style=\"display:none;\">\n",
       "        \n",
       "  <svg xmlns=\"http://www.w3.org/2000/svg\" height=\"24px\"viewBox=\"0 0 24 24\"\n",
       "       width=\"24px\">\n",
       "    <path d=\"M0 0h24v24H0V0z\" fill=\"none\"/>\n",
       "    <path d=\"M18.56 5.44l.94 2.06.94-2.06 2.06-.94-2.06-.94-.94-2.06-.94 2.06-2.06.94zm-11 1L8.5 8.5l.94-2.06 2.06-.94-2.06-.94L8.5 2.5l-.94 2.06-2.06.94zm10 10l.94 2.06.94-2.06 2.06-.94-2.06-.94-.94-2.06-.94 2.06-2.06.94z\"/><path d=\"M17.41 7.96l-1.37-1.37c-.4-.4-.92-.59-1.43-.59-.52 0-1.04.2-1.43.59L10.3 9.45l-7.72 7.72c-.78.78-.78 2.05 0 2.83L4 21.41c.39.39.9.59 1.41.59.51 0 1.02-.2 1.41-.59l7.78-7.78 2.81-2.81c.8-.78.8-2.07 0-2.86zM5.41 20L4 18.59l7.72-7.72 1.47 1.35L5.41 20z\"/>\n",
       "  </svg>\n",
       "      </button>\n",
       "      \n",
       "  <style>\n",
       "    .colab-df-container {\n",
       "      display:flex;\n",
       "      flex-wrap:wrap;\n",
       "      gap: 12px;\n",
       "    }\n",
       "\n",
       "    .colab-df-convert {\n",
       "      background-color: #E8F0FE;\n",
       "      border: none;\n",
       "      border-radius: 50%;\n",
       "      cursor: pointer;\n",
       "      display: none;\n",
       "      fill: #1967D2;\n",
       "      height: 32px;\n",
       "      padding: 0 0 0 0;\n",
       "      width: 32px;\n",
       "    }\n",
       "\n",
       "    .colab-df-convert:hover {\n",
       "      background-color: #E2EBFA;\n",
       "      box-shadow: 0px 1px 2px rgba(60, 64, 67, 0.3), 0px 1px 3px 1px rgba(60, 64, 67, 0.15);\n",
       "      fill: #174EA6;\n",
       "    }\n",
       "\n",
       "    [theme=dark] .colab-df-convert {\n",
       "      background-color: #3B4455;\n",
       "      fill: #D2E3FC;\n",
       "    }\n",
       "\n",
       "    [theme=dark] .colab-df-convert:hover {\n",
       "      background-color: #434B5C;\n",
       "      box-shadow: 0px 1px 3px 1px rgba(0, 0, 0, 0.15);\n",
       "      filter: drop-shadow(0px 1px 2px rgba(0, 0, 0, 0.3));\n",
       "      fill: #FFFFFF;\n",
       "    }\n",
       "  </style>\n",
       "\n",
       "      <script>\n",
       "        const buttonEl =\n",
       "          document.querySelector('#df-12355321-1ac0-4fe3-9648-1c384fce461d button.colab-df-convert');\n",
       "        buttonEl.style.display =\n",
       "          google.colab.kernel.accessAllowed ? 'block' : 'none';\n",
       "\n",
       "        async function convertToInteractive(key) {\n",
       "          const element = document.querySelector('#df-12355321-1ac0-4fe3-9648-1c384fce461d');\n",
       "          const dataTable =\n",
       "            await google.colab.kernel.invokeFunction('convertToInteractive',\n",
       "                                                     [key], {});\n",
       "          if (!dataTable) return;\n",
       "\n",
       "          const docLinkHtml = 'Like what you see? Visit the ' +\n",
       "            '<a target=\"_blank\" href=https://colab.research.google.com/notebooks/data_table.ipynb>data table notebook</a>'\n",
       "            + ' to learn more about interactive tables.';\n",
       "          element.innerHTML = '';\n",
       "          dataTable['output_type'] = 'display_data';\n",
       "          await google.colab.output.renderOutput(dataTable, element);\n",
       "          const docLink = document.createElement('div');\n",
       "          docLink.innerHTML = docLinkHtml;\n",
       "          element.appendChild(docLink);\n",
       "        }\n",
       "      </script>\n",
       "    </div>\n",
       "  </div>\n",
       "  "
      ],
      "text/plain": [
       "                     Model  Train Accuracy  Test Accuracy  Precision  \\\n",
       "0       LogisticRegression        0.901392       0.888070   0.856166   \n",
       "1    Bernoulli Naive Bayes        0.839585       0.824661   0.748387   \n",
       "2  Multinomial Naive Bayes        0.803710       0.793519   0.872346   \n",
       "3            Decision Tree        0.808443       0.802319   0.731762   \n",
       "4            Random Forest        0.779405       0.779410   0.389705   \n",
       "\n",
       "     recall  f1-score  \n",
       "0  0.801914  0.824351  \n",
       "1  0.704447  0.721413  \n",
       "2  0.533152  0.504269  \n",
       "3  0.596067  0.610055  \n",
       "4  0.500000  0.438016  "
      ]
     },
     "execution_count": 112,
     "metadata": {},
     "output_type": "execute_result"
    }
   ],
   "source": [
    "import pandas as pd\n",
    "\n",
    "# Create a dictionary to store the results\n",
    "results_dict = {\n",
    "    'Model': ['LogisticRegression','Bernoulli Naive Bayes', 'Multinomial Naive Bayes', 'Decision Tree', 'Random Forest'],\n",
    "    'Train Accuracy': [lr_train_acc,bNB_train_acc, mNB_train_acc, dt_train_acc, rf_train_acc],\n",
    "    'Test Accuracy': [lr_test_acc,bNB_test_acc, mNB_test_acc, dt_test_acc, rf_test_acc],\n",
    "    'Precision': [lr_report['macro avg']['precision'],bNB_report['macro avg']['precision'] , mNB_report['macro avg']['precision'] \n",
    "                  , dt_report['macro avg']['precision'] , rf_report['macro avg']['precision'] ],\n",
    "    'recall': [lr_report['macro avg']['recall'],bNB_report['macro avg']['recall'] , mNB_report['macro avg']['recall']\n",
    "                  , dt_report['macro avg']['recall'] , rf_report['macro avg']['recall'] ],\n",
    "    'f1-score': [lr_report['macro avg']['f1-score'],bNB_report['macro avg']['f1-score'] , mNB_report['macro avg']['f1-score']\n",
    "                  , dt_report['macro avg']['f1-score'] , rf_report['macro avg']['f1-score'] ]\n",
    "}\n",
    "\n",
    "# Convert the dictionary to a data frame\n",
    "results_df = pd.DataFrame.from_dict(results_dict)\n",
    "\n",
    "# Display the data frame\n",
    "results_df\n"
   ]
  },
  {
   "cell_type": "code",
   "execution_count": null,
   "id": "EbxuUsFhAiGR",
   "metadata": {
    "colab": {
     "base_uri": "https://localhost:8080/",
     "height": 641
    },
    "id": "EbxuUsFhAiGR",
    "outputId": "8f41a76e-1591-4382-e982-ee9d1dfe2800"
   },
   "outputs": [
    {
     "data": {
      "image/png": "[encoded data removed]",
      "text/plain": [
       "<Figure size 1400x700 with 1 Axes>"
      ]
     },
     "metadata": {},
     "output_type": "display_data"
    }
   ],
   "source": [
    "acc = [bNB_test_acc, mNB_test_acc, dt_test_acc, rf_test_acc, lr_test_acc]\n",
    "model = ['BernoulliNB','MultinomialNB', 'Decision Tree', 'Random Forest', 'Logistic Regression']\n",
    "plt.figure(figsize=[14,7],dpi = 100, facecolor='white');\n",
    "plt.title('Accuracy Comparison of Models');\n",
    "plt.xlabel('Accuracy');\n",
    "plt.ylabel('ML Algorithms');\n",
    "ax=sns.barplot(x = acc,y = model,palette='inferno');\n",
    "ax.set_xlim(0.1, 1.0)\n",
    "for i, v in enumerate(acc):\n",
    "    ax.text(v+0.01, i, str(round(v, 2)), va='center')\n",
    "plt.show()"
   ]
  },
  {
   "cell_type": "markdown",
   "id": "Ei_C1veOw0df",
   "metadata": {
    "id": "Ei_C1veOw0df"
   },
   "source": [
    "Overall, Logistic regression performs best on our data."
   ]
  },
  {
   "cell_type": "markdown",
   "id": "csJbZL1dlkZW",
   "metadata": {
    "id": "csJbZL1dlkZW"
   },
   "source": [
    "# References:\n",
    "\n",
    "https://www.kaggle.com/datasets/snap/amazon-fine-food-reviews\n",
    "\n",
    "https://www.geeksforgeeks.org/python-lemmatization-with-nltk/\n",
    "\n",
    "https://www.nltk.org/_modules/nltk/sentiment/vader.html\n",
    "\n",
    "https://stackoverflow.com/questions/48417867/access-to-numbers-in-classification-report-sklearn"
   ]
  }
 ],
 "metadata": {
  "colab": {
   "provenance": []
  },
  "kernelspec": {
   "display_name": "Python [conda env:cs5831] *",
   "language": "python",
   "name": "conda-env-cs5831-py"
  },
  "language_info": {
   "codemirror_mode": {
    "name": "ipython",
    "version": 3
   },
   "file_extension": ".py",
   "mimetype": "text/x-python",
   "name": "python",
   "nbconvert_exporter": "python",
   "pygments_lexer": "ipython3",
   "version": "3.8.10"
  }
 },
 "nbformat": 4,
 "nbformat_minor": 5
}
